{
 "cells": [
  {
   "cell_type": "markdown",
   "id": "ab30dd50",
   "metadata": {},
   "source": [
    "#Fair Face Classification"
   ]
  },
  {
   "cell_type": "code",
   "execution_count": 1,
   "id": "9e1f1622",
   "metadata": {},
   "outputs": [],
   "source": [
    "### IMPORTS ###\n",
    "import os\n",
    "import pandas as pd\n",
    "import numpy as np\n",
    "import matplotlib.pyplot as plt\n",
    "from PIL import Image\n",
    "import imageio\n"
   ]
  },
  {
   "cell_type": "code",
   "execution_count": 2,
   "id": "889eef95",
   "metadata": {},
   "outputs": [],
   "source": [
    "### VARIABLES ###\n",
    "train_label_fn = './Data/fairface_label_train.csv'\n",
    "val_labels_fn = './Data/fairface_label_val.csv'\n",
    "train_dir = './Data/fairface-img-margin025-trainval/train'\n",
    "val_dir = './Data/fairface-img-margin025-trainval/val'\n",
    "\n",
    "# 80/20 train/test\n",
    "# 60/20/20 80/10/10 train/val/test"
   ]
  },
  {
   "cell_type": "code",
   "execution_count": 3,
   "id": "99b7e6a7",
   "metadata": {},
   "outputs": [],
   "source": [
    "train_labels_df = pd.read_csv(train_label_fn)\n",
    "val_labels_df = pd.read_csv(val_labels_fn)"
   ]
  },
  {
   "cell_type": "code",
   "execution_count": 4,
   "id": "2ff9e048",
   "metadata": {},
   "outputs": [
    {
     "data": {
      "text/plain": [
       "'./Data/fairface-img-margin025-trainval/train'"
      ]
     },
     "execution_count": 4,
     "metadata": {},
     "output_type": "execute_result"
    }
   ],
   "source": [
    "train_dir"
   ]
  },
  {
   "cell_type": "markdown",
   "id": "12327abf",
   "metadata": {},
   "source": [
    "## Reading in Images"
   ]
  },
  {
   "cell_type": "code",
   "execution_count": 5,
   "id": "d75436cb",
   "metadata": {},
   "outputs": [
    {
     "data": {
      "text/plain": [
       "(224, 224, 3)"
      ]
     },
     "execution_count": 5,
     "metadata": {},
     "output_type": "execute_result"
    }
   ],
   "source": [
    "image_number = 3\n",
    "\n",
    "image_fn = os.path.join(train_dir, '{}.jpg'.format(image_number))\n",
    "\n",
    "# im = Image.open(image_fn) \n",
    "\n",
    "#converting into numpy array\n",
    "im = imageio.imread(image_fn)\n",
    "im.shape"
   ]
  },
  {
   "cell_type": "markdown",
   "id": "54406f79",
   "metadata": {},
   "source": [
    "## Creating X and Y"
   ]
  },
  {
   "cell_type": "code",
   "execution_count": 6,
   "id": "7ed00350",
   "metadata": {},
   "outputs": [
    {
     "data": {
      "text/plain": [
       "(150528,)"
      ]
     },
     "execution_count": 6,
     "metadata": {},
     "output_type": "execute_result"
    }
   ],
   "source": [
    "im.flatten().shape"
   ]
  },
  {
   "cell_type": "code",
   "execution_count": 7,
   "id": "749733c5",
   "metadata": {},
   "outputs": [],
   "source": [
    "NUM_ROWS = 86744\n",
    "NUM_COLUMNS = 150528\n",
    "X = np.zeros((NUM_ROWS, NUM_COLUMNS))"
   ]
  },
  {
   "cell_type": "code",
   "execution_count": 8,
   "id": "2c3f1ba7",
   "metadata": {},
   "outputs": [
    {
     "data": {
      "text/plain": [
       "(86744, 150528)"
      ]
     },
     "execution_count": 8,
     "metadata": {},
     "output_type": "execute_result"
    }
   ],
   "source": [
    "X.shape"
   ]
  },
  {
   "cell_type": "code",
   "execution_count": 9,
   "id": "72f6b143",
   "metadata": {},
   "outputs": [],
   "source": [
    "X[0, :] = im.flatten()"
   ]
  },
  {
   "cell_type": "code",
   "execution_count": 10,
   "id": "d13570f1",
   "metadata": {},
   "outputs": [
    {
     "data": {
      "text/plain": [
       "array([216., 171., 174., ..., 216., 251., 244.])"
      ]
     },
     "execution_count": 10,
     "metadata": {},
     "output_type": "execute_result"
    }
   ],
   "source": [
    "X[0, :]"
   ]
  },
  {
   "cell_type": "code",
   "execution_count": 11,
   "id": "7bbeac6d",
   "metadata": {},
   "outputs": [
    {
     "data": {
      "text/plain": [
       "Array([216, 171, 174, ..., 216, 251, 244], dtype=uint8)"
      ]
     },
     "execution_count": 11,
     "metadata": {},
     "output_type": "execute_result"
    }
   ],
   "source": [
    "im.flatten()"
   ]
  },
  {
   "cell_type": "code",
   "execution_count": null,
   "id": "9051503b",
   "metadata": {},
   "outputs": [],
   "source": [
    "X = np.zeros((NUM_ROWS + 1, NUM_COLUMNS)) # 0 index skipped\n",
    "for i in range(1, NUM_ROWS + 1):\n",
    "    image_fn = os.path.join(train_dir, '{}.jpg'.format(i))\n",
    "    im = imageio.imread(image_fn)\n",
    "    X[i - 1, :] = im.flatten()"
   ]
  },
  {
   "cell_type": "code",
   "execution_count": null,
   "id": "ab897dd5",
   "metadata": {},
   "outputs": [],
   "source": []
  }
 ],
 "metadata": {
  "kernelspec": {
   "display_name": "Python 3 (ipykernel)",
   "language": "python",
   "name": "python3"
  },
  "language_info": {
   "codemirror_mode": {
    "name": "ipython",
    "version": 3
   },
   "file_extension": ".py",
   "mimetype": "text/x-python",
   "name": "python",
   "nbconvert_exporter": "python",
   "pygments_lexer": "ipython3",
   "version": "3.9.12"
  }
 },
 "nbformat": 4,
 "nbformat_minor": 5
}
